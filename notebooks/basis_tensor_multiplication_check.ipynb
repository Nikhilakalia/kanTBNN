{
 "cells": [
  {
   "cell_type": "code",
   "execution_count": 3,
   "metadata": {},
   "outputs": [],
   "source": [
    "import pandas as pd\n",
    "import torch.nn as nn\n",
    "from tbnn.training_utils import early_stopped_tbnn_training_run\n",
    "import torch\n",
    "import matplotlib.pyplot as plt\n",
    "import pickle\n",
    "import torch.nn as nn\n",
    "import tbnn.models as models\n",
    "import tbnn.devices as devices\n",
    "import tbnn.dataloaders as dataloaders\n",
    "import tbnn.losses as losses\n",
    "device = devices.get_device()\n",
    "import numpy as np\n",
    "\n"
   ]
  },
  {
   "cell_type": "code",
   "execution_count": 4,
   "metadata": {},
   "outputs": [],
   "source": [
    "dataset_params = {'file': '/home/ryley/WDK/ML/dataset/komegasst_fp_phll_duct.csv',\n",
    "                  'test_set': ['case_1p2'],\n",
    "                }\n",
    "\n",
    "df = pd.read_csv(dataset_params['file'])\n",
    "\n",
    "df = df[df['Case'].isin(['case_1p2'])]\n",
    "\n"
   ]
  },
  {
   "cell_type": "code",
   "execution_count": 20,
   "metadata": {},
   "outputs": [
    {
     "name": "stdout",
     "output_type": "stream",
     "text": [
      "[[ 3.79735e-11  1.42354e-11  9.79931e-31]\n",
      " [-1.87237e-06 -1.75991e-07  2.37319e-25]\n",
      " [-2.47395e-30 -1.04255e-29 -0.00000e+00]]\n",
      "[[ 4.90259838e-11  1.83786902e-11 -3.19399030e-30]\n",
      " [ 1.83786902e-11 -4.90259838e-11 -1.34598840e-29]\n",
      " [-3.19399030e-30 -1.34598840e-29 -2.48113516e-48]]\n",
      "Dataset:\n",
      "[[-1.63420e-04 -6.12623e-05 -4.21715e-24]\n",
      " [-4.63512e-05 -4.35673e-06  5.87492e-24]\n",
      " [ 1.06467e-23  4.48663e-23  8.41000e-43]]\n",
      "Should be:\n",
      "[[-1.63419946e-04 -6.12623005e-05  1.06466343e-23]\n",
      " [-6.12623005e-05  1.63419946e-04  4.48662801e-23]\n",
      " [ 1.06466343e-23  4.48662801e-23  8.27045052e-42]]\n",
      "8.270450520085095e-42\n"
     ]
    }
   ],
   "source": [
    "Shat = np.empty((len(df),3,3))\n",
    "Rhat = np.empty((len(df),3,3))\n",
    "T10 = np.empty((len(df),3,3))\n",
    "T7 = np.empty((len(df),3,3))\n",
    "\n",
    "Shat[:,0,0] = df['komegasst_Shat_11']\n",
    "Shat[:,0,1] = df['komegasst_Shat_12']\n",
    "Shat[:,0,2] = df['komegasst_Shat_13']\n",
    "Shat[:,1,1] = df['komegasst_Shat_22']\n",
    "Shat[:,1,2] = df['komegasst_Shat_23']\n",
    "Shat[:,2,2] = df['komegasst_Shat_33']\n",
    "Shat[:,1,0] = Shat[:,0,1]\n",
    "Shat[:,2,0] = Shat[:,0,2]\n",
    "Shat[:,2,1] = Shat[:,1,2]\n",
    "\n",
    "Rhat[:,0,0] = df['komegasst_Rhat_11']\n",
    "Rhat[:,0,1] = df['komegasst_Rhat_12']\n",
    "Rhat[:,0,2] = df['komegasst_Rhat_13']\n",
    "Rhat[:,1,1] = df['komegasst_Rhat_22']\n",
    "Rhat[:,1,2] = df['komegasst_Rhat_23']\n",
    "Rhat[:,2,2] = df['komegasst_Rhat_33']\n",
    "Rhat[:,1,0] = df['komegasst_Rhat_21']\n",
    "Rhat[:,2,0] = df['komegasst_Rhat_31']\n",
    "Rhat[:,2,1] = df['komegasst_Rhat_32']\n",
    "\n",
    "T7[:,0,0] = df['komegasst_T7_11']\n",
    "T7[:,0,1] = df['komegasst_T7_12']\n",
    "T7[:,0,2] = df['komegasst_T7_13']\n",
    "T7[:,1,1] = df['komegasst_T7_22']\n",
    "T7[:,1,2] = df['komegasst_T7_23']\n",
    "T7[:,2,2] = df['komegasst_T7_33']\n",
    "T7[:,1,0] = df['komegasst_T7_21']\n",
    "T7[:,2,0] = df['komegasst_T7_31']\n",
    "T7[:,2,1] = df['komegasst_T7_32']\n",
    "\n",
    "T10[:,0,0] = df['komegasst_T10_11']\n",
    "T10[:,0,1] = df['komegasst_T10_12']\n",
    "T10[:,0,2] = df['komegasst_T10_13']\n",
    "T10[:,1,1] = df['komegasst_T10_22']\n",
    "T10[:,1,2] = df['komegasst_T10_23']\n",
    "T10[:,2,2] = df['komegasst_T10_33']\n",
    "T10[:,1,0] = df['komegasst_T10_21']\n",
    "T10[:,2,0] = df['komegasst_T10_31']\n",
    "T10[:,2,1] = df['komegasst_T10_32']\n",
    "\n",
    "\n",
    "T10_test = (Rhat @ Shat @ Shat @ Rhat @ Rhat) - (Rhat @ Rhat @ Shat @ Shat @ Rhat)\n",
    "T7_test = (Rhat @ Shat @ Rhat @ Rhat) - (Rhat @ Rhat @ Shat @ Rhat)\n",
    "print(T10[5000])\n",
    "print(T10_test[5000])\n",
    "\n",
    "print('Dataset:')\n",
    "print(T7[5000])\n",
    "print('Should be:')\n",
    "print(T7_test[5000])\n",
    "print(np.trace(T7_test[5000]))\n"
   ]
  },
  {
   "cell_type": "code",
   "execution_count": null,
   "metadata": {},
   "outputs": [],
   "source": []
  }
 ],
 "metadata": {
  "kernelspec": {
   "display_name": "training",
   "language": "python",
   "name": "python3"
  },
  "language_info": {
   "codemirror_mode": {
    "name": "ipython",
    "version": 3
   },
   "file_extension": ".py",
   "mimetype": "text/x-python",
   "name": "python",
   "nbconvert_exporter": "python",
   "pygments_lexer": "ipython3",
   "version": "3.10.4"
  },
  "orig_nbformat": 4
 },
 "nbformat": 4,
 "nbformat_minor": 2
}
